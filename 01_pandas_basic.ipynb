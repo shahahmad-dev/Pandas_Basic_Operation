{
 "cells": [
  {
   "cell_type": "code",
   "execution_count": null,
   "id": "c56f4c2b",
   "metadata": {},
   "outputs": [],
   "source": [
    "import pandas as pd\n"
   ]
  },
  {
   "cell_type": "markdown",
   "id": "98ba5933",
   "metadata": {},
   "source": [
    "# 01- How to find version"
   ]
  },
  {
   "cell_type": "markdown",
   "id": "053e5c50",
   "metadata": {},
   "source": []
  },
  {
   "cell_type": "code",
   "execution_count": null,
   "id": "755bedfc",
   "metadata": {
    "notebookRunGroups": {
     "groupValue": "1"
    }
   },
   "outputs": [],
   "source": [
    "# Check pandas version\n",
    "pd.__version__"
   ]
  },
  {
   "cell_type": "code",
   "execution_count": null,
   "id": "37311356",
   "metadata": {},
   "outputs": [],
   "source": [
    "# Another way to show pandas verison \n",
    "pd.show_versions()"
   ]
  },
  {
   "cell_type": "markdown",
   "id": "cb8d1d1f",
   "metadata": {},
   "source": [
    " \n",
    "# 02- Make a DataFrame"
   ]
  },
  {
   "cell_type": "markdown",
   "id": "4623edf5",
   "metadata": {},
   "source": []
  },
  {
   "cell_type": "code",
   "execution_count": null,
   "id": "465ebf3e",
   "metadata": {},
   "outputs": [],
   "source": [
    "df = pd.DataFrame({'Col A':[ 1,2,3], \"Col B\": [4,5,6]})\n",
    "df"
   ]
  },
  {
   "cell_type": "code",
   "execution_count": null,
   "id": "8f1cf4af",
   "metadata": {},
   "outputs": [],
   "source": [
    "# Array conversion to DataFrame\n",
    "import numpy as np\n",
    "array = np.array([[1,2,3], [4,5,6], [7,8,9]])\n",
    "array\n",
    "\n",
    "df = pd.DataFrame(array)\n",
    "df"
   ]
  },
  {
   "cell_type": "code",
   "execution_count": null,
   "id": "b8ecd772",
   "metadata": {},
   "outputs": [],
   "source": [
    "# Creating a DataFrame with random floats \n",
    "df = pd.DataFrame(np.random.rand(4,8), columns=list('ABCDEFGH'))\n",
    "df"
   ]
  },
  {
   "cell_type": "markdown",
   "id": "6c441cd2",
   "metadata": {},
   "source": [
    "# 03- How to rename a columns?"
   ]
  },
  {
   "cell_type": "code",
   "execution_count": null,
   "id": "8da0a7d0",
   "metadata": {},
   "outputs": [],
   "source": [
    "# Creating a DataFrame with random integers and specific index and columns with names\n",
    "df = pd.DataFrame(np.random.randint(1,11,size=(4,8))\n",
    "                  ,columns=list(\"ABCDEFGH\")\n",
    "                  , index=['R1', 'R2', 'R3', 'R4'])\n",
    "df"
   ]
  },
  {
   "cell_type": "code",
   "execution_count": null,
   "id": "ab0745f1",
   "metadata": {},
   "outputs": [],
   "source": [
    "df = pd.DataFrame(np.random.randint(1,21, size = (3,3)))\n",
    "df\n",
    "\n"
   ]
  },
  {
   "cell_type": "code",
   "execution_count": null,
   "id": "f1f525d6",
   "metadata": {},
   "outputs": [],
   "source": [
    "# Change colums name\n",
    "df.columns=['col1', 'col2','col3']\n",
    "df"
   ]
  },
  {
   "cell_type": "code",
   "execution_count": null,
   "id": "d4ec156e",
   "metadata": {},
   "outputs": [],
   "source": [
    "# Change rows name\n",
    "df.index=[\"Row-1\", \"Row-2\", \"Row-3\"]\n",
    "df"
   ]
  },
  {
   "cell_type": "code",
   "execution_count": null,
   "id": "e1131250",
   "metadata": {},
   "outputs": [],
   "source": [
    "# to replace any charactor or string\n",
    "df.columns = df.columns.str.replace(\"-\",\"_\")\n",
    "\n",
    "df"
   ]
  },
  {
   "cell_type": "code",
   "execution_count": null,
   "id": "ea4f2e36",
   "metadata": {},
   "outputs": [],
   "source": [
    "# adding perfix in columns\n",
    "df = df.add_prefix(\"A_\")\n",
    "df"
   ]
  },
  {
   "cell_type": "code",
   "execution_count": null,
   "id": "ef06cb9e",
   "metadata": {},
   "outputs": [],
   "source": [
    "# adding suffix in columns\n",
    "df = df.add_suffix(\"_X\")\n",
    "df"
   ]
  },
  {
   "cell_type": "code",
   "execution_count": null,
   "id": "06fa2291",
   "metadata": {},
   "outputs": [],
   "source": [
    "df.columns=[\"col-1\", \"col-2\", 'col-3']\n",
    "df"
   ]
  },
  {
   "cell_type": "markdown",
   "id": "c26a6217",
   "metadata": {},
   "source": [
    "# 04- Using tamplate data"
   ]
  },
  {
   "cell_type": "code",
   "execution_count": null,
   "id": "221428cd",
   "metadata": {},
   "outputs": [],
   "source": [
    "import pandas as pd\n",
    "import numpy as np\n",
    "import seaborn as sns\n",
    "\n",
    "df = sns.load_dataset(\"titanic\")\n",
    "df.head()"
   ]
  },
  {
   "cell_type": "code",
   "execution_count": null,
   "id": "f66c4788",
   "metadata": {},
   "outputs": [],
   "source": [
    "# summary\n",
    "df.describe()"
   ]
  },
  {
   "cell_type": "code",
   "execution_count": null,
   "id": "e7783880",
   "metadata": {},
   "outputs": [],
   "source": [
    "# columns name\n",
    "df.columns"
   ]
  },
  {
   "cell_type": "code",
   "execution_count": null,
   "id": "bf4d6d00",
   "metadata": {},
   "outputs": [],
   "source": [
    "# rows count\n",
    "df.index"
   ]
  },
  {
   "cell_type": "code",
   "execution_count": null,
   "id": "212c3c3d",
   "metadata": {},
   "outputs": [],
   "source": [
    "# save DataFrame to CSV\n",
    "df.to_csv(\"zyx.csv\")"
   ]
  },
  {
   "cell_type": "code",
   "execution_count": null,
   "id": "0b684c9e",
   "metadata": {},
   "outputs": [],
   "source": [
    "# converted to excel\n",
    "df.to_excel(\"xyz.xlsx\")\n",
    "df.head(3)"
   ]
  },
  {
   "cell_type": "markdown",
   "id": "10b175ce",
   "metadata": {},
   "source": [
    "# 05- Using your own data  "
   ]
  },
  {
   "cell_type": "code",
   "execution_count": null,
   "id": "54d3fc66",
   "metadata": {},
   "outputs": [],
   "source": [
    "# read from excel\n",
    "df = pd.read_csv(\"zyx.csv\")\n",
    "df"
   ]
  },
  {
   "cell_type": "markdown",
   "id": "143c95bc",
   "metadata": {},
   "source": [
    "# 06- Reverse rows order"
   ]
  },
  {
   "cell_type": "code",
   "execution_count": null,
   "id": "022f3dd7",
   "metadata": {},
   "outputs": [],
   "source": [
    "import pandas as pd\n",
    "import seaborn as sns"
   ]
  },
  {
   "cell_type": "code",
   "execution_count": null,
   "id": "c912eaba",
   "metadata": {},
   "outputs": [],
   "source": [
    "df = sns.load_dataset(\"titanic\")\n",
    "df.head(3)"
   ]
  },
  {
   "cell_type": "code",
   "execution_count": null,
   "id": "ab847aee",
   "metadata": {},
   "outputs": [],
   "source": [
    "# reverse order\n",
    "df.loc[::-1].head()"
   ]
  },
  {
   "cell_type": "code",
   "execution_count": null,
   "id": "cfc3e0df",
   "metadata": {},
   "outputs": [],
   "source": [
    "# reset index \n",
    "df.loc[::-1].reset_index(drop=True).head()"
   ]
  },
  {
   "cell_type": "markdown",
   "id": "901e6ffb",
   "metadata": {},
   "source": [
    "# 07- Reverse columns order"
   ]
  },
  {
   "cell_type": "code",
   "execution_count": null,
   "id": "bfe8f7f4",
   "metadata": {},
   "outputs": [],
   "source": [
    "df.loc[:, ::-1].head(3)\n"
   ]
  },
  {
   "cell_type": "markdown",
   "id": "feed19a2",
   "metadata": {},
   "source": [
    "# 08- Select a colum by data type"
   ]
  },
  {
   "cell_type": "code",
   "execution_count": null,
   "id": "899892ed",
   "metadata": {},
   "outputs": [],
   "source": [
    "# select only numeric columns\n",
    "df.select_dtypes(include=[\"number\"]).head()"
   ]
  },
  {
   "cell_type": "code",
   "execution_count": null,
   "id": "1198c230",
   "metadata": {},
   "outputs": [],
   "source": [
    "# select only categoryical value\n",
    "df.select_dtypes(include=['category']).head()"
   ]
  },
  {
   "cell_type": "code",
   "execution_count": null,
   "id": "0ec273c2",
   "metadata": {},
   "outputs": [],
   "source": [
    "# select only object type columns\n",
    "df.select_dtypes(include='object').head()"
   ]
  },
  {
   "cell_type": "code",
   "execution_count": null,
   "id": "b87e4190",
   "metadata": {},
   "outputs": [],
   "source": [
    "#select only Float64 type columns\n",
    "df.select_dtypes(include='Float64').head()"
   ]
  },
  {
   "cell_type": "code",
   "execution_count": null,
   "id": "c0d08a91",
   "metadata": {},
   "outputs": [],
   "source": [
    "# select only number and category type columns\n",
    "df.select_dtypes(include=['number', 'category']).head(3)"
   ]
  },
  {
   "cell_type": "code",
   "execution_count": null,
   "id": "b4ad76cd",
   "metadata": {},
   "outputs": [],
   "source": [
    "# select all columns except number type\n",
    "# This will include all non-numeric columns such as object, category, etc.\n",
    "df.select_dtypes(exclude=['number']).head()"
   ]
  },
  {
   "cell_type": "code",
   "execution_count": null,
   "id": "e07ec2ee",
   "metadata": {},
   "outputs": [],
   "source": [
    "# select all columns except category type\n",
    "# This will include all non-category columns such as object, number, etc.\n",
    "df.select_dtypes(exclude=['category']).head()"
   ]
  },
  {
   "cell_type": "markdown",
   "id": "483f9522",
   "metadata": {},
   "source": [
    "# 09- convert numaric into string \n"
   ]
  },
  {
   "cell_type": "code",
   "execution_count": null,
   "id": "5cc94f8a",
   "metadata": {},
   "outputs": [],
   "source": [
    "#\n",
    "df = pd.DataFrame({ \"col_A\" :[1,2,3,4,5],\n",
    "                   'col_B' :[6,7,8,9,10]})\n",
    "df.dtypes"
   ]
  },
  {
   "cell_type": "code",
   "execution_count": null,
   "id": "8e1ccf06",
   "metadata": {},
   "outputs": [],
   "source": [
    "# Convert column 'col_A' to string type and 'col_B' to string type\n",
    "df.astype({'col_A': 'str', \"col_B\": 'str'}).dtypes"
   ]
  },
  {
   "cell_type": "code",
   "execution_count": null,
   "id": "9429c21d",
   "metadata": {},
   "outputs": [],
   "source": [
    "# Convert column 'col_A' to numeric type, coercing errors means that if there are any non-numeric values, they will be replaced with NaN\n",
    "pd.to_numeric(df['col_A'],errors=\"coerce\")"
   ]
  },
  {
   "cell_type": "markdown",
   "id": "ac648386",
   "metadata": {},
   "source": [
    "# 10- Reduce DataFrame size"
   ]
  },
  {
   "cell_type": "code",
   "execution_count": null,
   "id": "0621c59d",
   "metadata": {},
   "outputs": [],
   "source": [
    "# reduce the DataFrame to a sample of 10% of its rows\n",
    "df = sns.load_dataset('titanic')\n",
    "\n",
    "df.sample(frac=0.1).shape\n",
    "df.info()"
   ]
  },
  {
   "cell_type": "markdown",
   "id": "f2e3eeac",
   "metadata": {},
   "source": [
    "# 11- copy DataFrame from clip board"
   ]
  },
  {
   "cell_type": "markdown",
   "id": "6630894c",
   "metadata": {},
   "source": []
  },
  {
   "cell_type": "code",
   "execution_count": null,
   "id": "6b61c270",
   "metadata": {},
   "outputs": [],
   "source": [
    "import pandas as pd\n",
    "import seaborn as sns\n",
    "\n",
    "df = sns.load_dataset('titanic')\n",
    "df.to_excel(\"titanic_sample.xlsx\", index=False)"
   ]
  },
  {
   "cell_type": "code",
   "execution_count": null,
   "id": "58e09d19",
   "metadata": {},
   "outputs": [],
   "source": [
    "# read from clipboard\n",
    "df = pd.read_clipboard()\n",
    "df"
   ]
  },
  {
   "cell_type": "markdown",
   "id": "e47d00ee",
   "metadata": {},
   "source": [
    "# 12- Split dataframe in two subsets"
   ]
  },
  {
   "cell_type": "code",
   "execution_count": null,
   "id": "360c3485",
   "metadata": {},
   "outputs": [],
   "source": [
    "import pandas as pd\n",
    "import seaborn as sns\n",
    "\n",
    "df = sns.load_dataset('titanic')\n",
    "\n"
   ]
  },
  {
   "cell_type": "code",
   "execution_count": null,
   "id": "1598c01b",
   "metadata": {},
   "outputs": [],
   "source": [
    "from random import random\n",
    "df_1 = df.sample(frac=0.50, random_state=1 )\n",
    "df_1.shape"
   ]
  },
  {
   "cell_type": "code",
   "execution_count": null,
   "id": "b8e3d832",
   "metadata": {},
   "outputs": [],
   "source": [
    "df_2 = df.drop(df_1.index)\n",
    "df_2.shape"
   ]
  },
  {
   "cell_type": "code",
   "execution_count": null,
   "id": "6a3eb13a",
   "metadata": {},
   "outputs": [],
   "source": [
    "df_1.head(4)"
   ]
  },
  {
   "cell_type": "code",
   "execution_count": null,
   "id": "45a72fa6",
   "metadata": {},
   "outputs": [],
   "source": [
    "df_2.head(4)"
   ]
  },
  {
   "cell_type": "code",
   "execution_count": null,
   "id": "667e0b82",
   "metadata": {},
   "outputs": [],
   "source": [
    "df_1.shape"
   ]
  },
  {
   "cell_type": "code",
   "execution_count": null,
   "id": "d0633acd",
   "metadata": {},
   "outputs": [],
   "source": [
    "df_2.shape"
   ]
  },
  {
   "cell_type": "code",
   "execution_count": null,
   "id": "a1c2c6db",
   "metadata": {},
   "outputs": [],
   "source": [
    "len(df_2) + len(df_1)"
   ]
  },
  {
   "cell_type": "markdown",
   "id": "8994cdba",
   "metadata": {},
   "source": [
    "# 13- Concat two datasets in one dataframe"
   ]
  },
  {
   "cell_type": "code",
   "execution_count": null,
   "id": "f423c69c",
   "metadata": {},
   "outputs": [],
   "source": [
    "df = pd.concat([df_1, df_2])\n",
    "df.shape"
   ]
  },
  {
   "cell_type": "markdown",
   "id": "a45df07f",
   "metadata": {},
   "source": [
    "# 14- Filtering a dataframe"
   ]
  },
  {
   "cell_type": "code",
   "execution_count": null,
   "id": "b940f420",
   "metadata": {},
   "outputs": [],
   "source": [
    "df.head()"
   ]
  },
  {
   "cell_type": "code",
   "execution_count": null,
   "id": "d39cacab",
   "metadata": {},
   "outputs": [],
   "source": [
    "df.sex.unique()"
   ]
  },
  {
   "cell_type": "markdown",
   "id": "66b74aed",
   "metadata": {},
   "source": []
  },
  {
   "cell_type": "code",
   "execution_count": null,
   "id": "c34f924f",
   "metadata": {},
   "outputs": [],
   "source": [
    "df[(df.sex==\"male\")]"
   ]
  },
  {
   "cell_type": "code",
   "execution_count": null,
   "id": "91d2b54b",
   "metadata": {},
   "outputs": [],
   "source": [
    "df.who.unique()"
   ]
  },
  {
   "cell_type": "code",
   "execution_count": null,
   "id": "cbcf129f",
   "metadata": {},
   "outputs": [],
   "source": [
    "df[(df.who=='child') & (df.age>14)]"
   ]
  },
  {
   "cell_type": "code",
   "execution_count": null,
   "id": "9b4f5912",
   "metadata": {},
   "outputs": [],
   "source": [
    "df[(df.alive=='yes')].shape"
   ]
  },
  {
   "cell_type": "code",
   "execution_count": null,
   "id": "100758e5",
   "metadata": {},
   "outputs": [],
   "source": [
    "df[(df.alive=='no')].shape"
   ]
  },
  {
   "cell_type": "code",
   "execution_count": null,
   "id": "fdf8a003",
   "metadata": {},
   "outputs": [],
   "source": [
    "df.head()"
   ]
  },
  {
   "cell_type": "code",
   "execution_count": null,
   "id": "7072586b",
   "metadata": {},
   "outputs": [],
   "source": [
    "df[\n",
    "    ( (df.embark_town == 'Southampton') ) |\n",
    "    ( (df.embark_town == 'Queenstown') & (df.alone == \"True\") )\n",
    "]\n"
   ]
  },
  {
   "cell_type": "code",
   "execution_count": null,
   "id": "714d2e7d",
   "metadata": {},
   "outputs": [],
   "source": [
    "filter_df = df [(\n",
    "    (df.age >= 18) &\n",
    "    (df.sex == \"female\") &\n",
    "    (df.alive == 'yes')\n",
    "\n",
    ")]"
   ]
  },
  {
   "cell_type": "code",
   "execution_count": null,
   "id": "5e34f126",
   "metadata": {},
   "outputs": [],
   "source": [
    "result = filter_df[['age', 'sex', 'alive']]\n",
    "result\n"
   ]
  },
  {
   "cell_type": "markdown",
   "id": "a0a89f3f",
   "metadata": {},
   "source": [
    "# 15- Filter by large category"
   ]
  },
  {
   "cell_type": "code",
   "execution_count": null,
   "id": "b7b22c7a",
   "metadata": {},
   "outputs": [],
   "source": [
    "df.sex.value_counts()"
   ]
  },
  {
   "cell_type": "code",
   "execution_count": null,
   "id": "2b38676d",
   "metadata": {},
   "outputs": [],
   "source": [
    "df.alive.value_counts()"
   ]
  },
  {
   "cell_type": "code",
   "execution_count": null,
   "id": "af65034c",
   "metadata": {},
   "outputs": [],
   "source": [
    "df.alone.value_counts()"
   ]
  },
  {
   "cell_type": "code",
   "execution_count": null,
   "id": "e4237e68",
   "metadata": {},
   "outputs": [],
   "source": [
    "df.age.value_counts().nlargest(4)"
   ]
  },
  {
   "cell_type": "code",
   "execution_count": null,
   "id": "e9471868",
   "metadata": {},
   "outputs": [],
   "source": [
    "df.age.value_counts().nsmallest(4).index"
   ]
  },
  {
   "cell_type": "markdown",
   "id": "8ba80b08",
   "metadata": {},
   "source": [
    "# 16- Spliting a string into multiple columns"
   ]
  },
  {
   "cell_type": "code",
   "execution_count": null,
   "id": "9326c112",
   "metadata": {},
   "outputs": [],
   "source": [
    "df = pd.DataFrame({\"name\": ['Ali Raza','Junaid Maseed','Ajmal Afridi'],\n",
    "                   \"address\": ['palosa Peshawar', 'warirstan england', 'Hassen khel'] })\n",
    "\n",
    "df [['First_name', 'Last_name'] ] = df.name.str.split(' ' ,expand=True)"
   ]
  },
  {
   "cell_type": "code",
   "execution_count": null,
   "id": "c1d4a2f9",
   "metadata": {},
   "outputs": [],
   "source": [
    "df"
   ]
  },
  {
   "cell_type": "code",
   "execution_count": null,
   "id": "e64ab44c",
   "metadata": {},
   "outputs": [],
   "source": [
    "new_df = df[['Village', 'State']] = df.address.str.split(' ', expand=True)"
   ]
  },
  {
   "cell_type": "code",
   "execution_count": null,
   "id": "8a0ebfc5",
   "metadata": {},
   "outputs": [],
   "source": [
    "new_df"
   ]
  },
  {
   "cell_type": "code",
   "execution_count": null,
   "id": "0b8b3af7",
   "metadata": {},
   "outputs": [],
   "source": [
    "df"
   ]
  },
  {
   "cell_type": "code",
   "execution_count": null,
   "id": "7b28b1ba",
   "metadata": {},
   "outputs": [],
   "source": [
    "# Refine data maniplution\n",
    "df = df [['First_name', 'Last_name', 'Village', 'State']]\n",
    "df"
   ]
  },
  {
   "cell_type": "markdown",
   "id": "0776baad",
   "metadata": {},
   "source": [
    "# 17- Aggregate by multiple group/function"
   ]
  },
  {
   "cell_type": "code",
   "execution_count": null,
   "id": "c91a431a",
   "metadata": {},
   "outputs": [],
   "source": [
    "import pandas as pd\n",
    "import seaborn as sns\n",
    "\n",
    "df = sns.load_dataset('titanic')"
   ]
  },
  {
   "cell_type": "code",
   "execution_count": null,
   "id": "a75c83d1",
   "metadata": {},
   "outputs": [],
   "source": [
    "df.groupby('who').count()"
   ]
  },
  {
   "cell_type": "code",
   "execution_count": null,
   "id": "8608024e",
   "metadata": {},
   "outputs": [],
   "source": [
    "df.groupby('sex').count()"
   ]
  },
  {
   "cell_type": "code",
   "execution_count": 373,
   "id": "cdc4abb0",
   "metadata": {},
   "outputs": [
    {
     "data": {
      "text/plain": [
       "3"
      ]
     },
     "execution_count": 373,
     "metadata": {},
     "output_type": "execute_result"
    }
   ],
   "source": [
    "len(df.groupby('who'))"
   ]
  },
  {
   "cell_type": "code",
   "execution_count": 378,
   "id": "d240e971",
   "metadata": {},
   "outputs": [
    {
     "data": {
      "application/vnd.microsoft.datawrangler.viewer.v0+json": {
       "columns": [
        {
         "name": "('who', 'sex')",
         "rawType": "object",
         "type": "unknown"
        },
        {
         "name": "survived",
         "rawType": "int64",
         "type": "integer"
        },
        {
         "name": "pclass",
         "rawType": "int64",
         "type": "integer"
        },
        {
         "name": "age",
         "rawType": "int64",
         "type": "integer"
        },
        {
         "name": "sibsp",
         "rawType": "int64",
         "type": "integer"
        },
        {
         "name": "parch",
         "rawType": "int64",
         "type": "integer"
        },
        {
         "name": "fare",
         "rawType": "int64",
         "type": "integer"
        },
        {
         "name": "embarked",
         "rawType": "int64",
         "type": "integer"
        },
        {
         "name": "class",
         "rawType": "int64",
         "type": "integer"
        },
        {
         "name": "adult_male",
         "rawType": "int64",
         "type": "integer"
        },
        {
         "name": "deck",
         "rawType": "int64",
         "type": "integer"
        },
        {
         "name": "embark_town",
         "rawType": "int64",
         "type": "integer"
        },
        {
         "name": "alive",
         "rawType": "int64",
         "type": "integer"
        },
        {
         "name": "alone",
         "rawType": "int64",
         "type": "integer"
        }
       ],
       "ref": "e03a6de4-a225-4771-9c81-25a4fa0694c1",
       "rows": [
        [
         "('child', 'female')",
         "43",
         "43",
         "43",
         "43",
         "43",
         "43",
         "43",
         "43",
         "43",
         "6",
         "43",
         "43",
         "43"
        ],
        [
         "('child', 'male')",
         "40",
         "40",
         "40",
         "40",
         "40",
         "40",
         "40",
         "40",
         "40",
         "7",
         "40",
         "40",
         "40"
        ],
        [
         "('man', 'male')",
         "537",
         "537",
         "413",
         "537",
         "537",
         "537",
         "537",
         "537",
         "537",
         "99",
         "537",
         "537",
         "537"
        ],
        [
         "('woman', 'female')",
         "271",
         "271",
         "218",
         "271",
         "271",
         "271",
         "269",
         "271",
         "271",
         "91",
         "269",
         "271",
         "271"
        ]
       ],
       "shape": {
        "columns": 13,
        "rows": 4
       }
      },
      "text/html": [
       "<div>\n",
       "<style scoped>\n",
       "    .dataframe tbody tr th:only-of-type {\n",
       "        vertical-align: middle;\n",
       "    }\n",
       "\n",
       "    .dataframe tbody tr th {\n",
       "        vertical-align: top;\n",
       "    }\n",
       "\n",
       "    .dataframe thead th {\n",
       "        text-align: right;\n",
       "    }\n",
       "</style>\n",
       "<table border=\"1\" class=\"dataframe\">\n",
       "  <thead>\n",
       "    <tr style=\"text-align: right;\">\n",
       "      <th></th>\n",
       "      <th></th>\n",
       "      <th>survived</th>\n",
       "      <th>pclass</th>\n",
       "      <th>age</th>\n",
       "      <th>sibsp</th>\n",
       "      <th>parch</th>\n",
       "      <th>fare</th>\n",
       "      <th>embarked</th>\n",
       "      <th>class</th>\n",
       "      <th>adult_male</th>\n",
       "      <th>deck</th>\n",
       "      <th>embark_town</th>\n",
       "      <th>alive</th>\n",
       "      <th>alone</th>\n",
       "    </tr>\n",
       "    <tr>\n",
       "      <th>who</th>\n",
       "      <th>sex</th>\n",
       "      <th></th>\n",
       "      <th></th>\n",
       "      <th></th>\n",
       "      <th></th>\n",
       "      <th></th>\n",
       "      <th></th>\n",
       "      <th></th>\n",
       "      <th></th>\n",
       "      <th></th>\n",
       "      <th></th>\n",
       "      <th></th>\n",
       "      <th></th>\n",
       "      <th></th>\n",
       "    </tr>\n",
       "  </thead>\n",
       "  <tbody>\n",
       "    <tr>\n",
       "      <th rowspan=\"2\" valign=\"top\">child</th>\n",
       "      <th>female</th>\n",
       "      <td>43</td>\n",
       "      <td>43</td>\n",
       "      <td>43</td>\n",
       "      <td>43</td>\n",
       "      <td>43</td>\n",
       "      <td>43</td>\n",
       "      <td>43</td>\n",
       "      <td>43</td>\n",
       "      <td>43</td>\n",
       "      <td>6</td>\n",
       "      <td>43</td>\n",
       "      <td>43</td>\n",
       "      <td>43</td>\n",
       "    </tr>\n",
       "    <tr>\n",
       "      <th>male</th>\n",
       "      <td>40</td>\n",
       "      <td>40</td>\n",
       "      <td>40</td>\n",
       "      <td>40</td>\n",
       "      <td>40</td>\n",
       "      <td>40</td>\n",
       "      <td>40</td>\n",
       "      <td>40</td>\n",
       "      <td>40</td>\n",
       "      <td>7</td>\n",
       "      <td>40</td>\n",
       "      <td>40</td>\n",
       "      <td>40</td>\n",
       "    </tr>\n",
       "    <tr>\n",
       "      <th>man</th>\n",
       "      <th>male</th>\n",
       "      <td>537</td>\n",
       "      <td>537</td>\n",
       "      <td>413</td>\n",
       "      <td>537</td>\n",
       "      <td>537</td>\n",
       "      <td>537</td>\n",
       "      <td>537</td>\n",
       "      <td>537</td>\n",
       "      <td>537</td>\n",
       "      <td>99</td>\n",
       "      <td>537</td>\n",
       "      <td>537</td>\n",
       "      <td>537</td>\n",
       "    </tr>\n",
       "    <tr>\n",
       "      <th>woman</th>\n",
       "      <th>female</th>\n",
       "      <td>271</td>\n",
       "      <td>271</td>\n",
       "      <td>218</td>\n",
       "      <td>271</td>\n",
       "      <td>271</td>\n",
       "      <td>271</td>\n",
       "      <td>269</td>\n",
       "      <td>271</td>\n",
       "      <td>271</td>\n",
       "      <td>91</td>\n",
       "      <td>269</td>\n",
       "      <td>271</td>\n",
       "      <td>271</td>\n",
       "    </tr>\n",
       "  </tbody>\n",
       "</table>\n",
       "</div>"
      ],
      "text/plain": [
       "              survived  pclass  age  sibsp  parch  fare  embarked  class  \\\n",
       "who   sex                                                                  \n",
       "child female        43      43   43     43     43    43        43     43   \n",
       "      male          40      40   40     40     40    40        40     40   \n",
       "man   male         537     537  413    537    537   537       537    537   \n",
       "woman female       271     271  218    271    271   271       269    271   \n",
       "\n",
       "              adult_male  deck  embark_town  alive  alone  \n",
       "who   sex                                                  \n",
       "child female          43     6           43     43     43  \n",
       "      male            40     7           40     40     40  \n",
       "man   male           537    99          537    537    537  \n",
       "woman female         271    91          269    271    271  "
      ]
     },
     "execution_count": 378,
     "metadata": {},
     "output_type": "execute_result"
    }
   ],
   "source": [
    "df.groupby(['who', 'sex']).count()"
   ]
  },
  {
   "cell_type": "code",
   "execution_count": 379,
   "id": "d8cad1af",
   "metadata": {},
   "outputs": [
    {
     "data": {
      "application/vnd.microsoft.datawrangler.viewer.v0+json": {
       "columns": [
        {
         "name": "('sex', 'who', 'alone')",
         "rawType": "object",
         "type": "unknown"
        },
        {
         "name": "survived",
         "rawType": "int64",
         "type": "integer"
        },
        {
         "name": "pclass",
         "rawType": "int64",
         "type": "integer"
        },
        {
         "name": "age",
         "rawType": "int64",
         "type": "integer"
        },
        {
         "name": "sibsp",
         "rawType": "int64",
         "type": "integer"
        },
        {
         "name": "parch",
         "rawType": "int64",
         "type": "integer"
        },
        {
         "name": "fare",
         "rawType": "int64",
         "type": "integer"
        },
        {
         "name": "embarked",
         "rawType": "int64",
         "type": "integer"
        },
        {
         "name": "class",
         "rawType": "int64",
         "type": "integer"
        },
        {
         "name": "adult_male",
         "rawType": "int64",
         "type": "integer"
        },
        {
         "name": "deck",
         "rawType": "int64",
         "type": "integer"
        },
        {
         "name": "embark_town",
         "rawType": "int64",
         "type": "integer"
        },
        {
         "name": "alive",
         "rawType": "int64",
         "type": "integer"
        }
       ],
       "ref": "cd3e7fff-cde4-439b-8fbb-b043daf6300f",
       "rows": [
        [
         "('female', 'child', np.False_)",
         "38",
         "38",
         "38",
         "38",
         "38",
         "38",
         "38",
         "38",
         "38",
         "6",
         "38",
         "38"
        ],
        [
         "('female', 'child', np.True_)",
         "5",
         "5",
         "5",
         "5",
         "5",
         "5",
         "5",
         "5",
         "5",
         "0",
         "5",
         "5"
        ],
        [
         "('female', 'woman', np.False_)",
         "150",
         "150",
         "123",
         "150",
         "150",
         "150",
         "150",
         "150",
         "150",
         "56",
         "150",
         "150"
        ],
        [
         "('female', 'woman', np.True_)",
         "121",
         "121",
         "95",
         "121",
         "121",
         "121",
         "119",
         "121",
         "121",
         "35",
         "119",
         "121"
        ],
        [
         "('male', 'child', np.False_)",
         "39",
         "39",
         "39",
         "39",
         "39",
         "39",
         "39",
         "39",
         "39",
         "7",
         "39",
         "39"
        ],
        [
         "('male', 'child', np.True_)",
         "1",
         "1",
         "1",
         "1",
         "1",
         "1",
         "1",
         "1",
         "1",
         "0",
         "1",
         "1"
        ],
        [
         "('male', 'man', np.False_)",
         "127",
         "127",
         "110",
         "127",
         "127",
         "127",
         "127",
         "127",
         "127",
         "41",
         "127",
         "127"
        ],
        [
         "('male', 'man', np.True_)",
         "410",
         "410",
         "303",
         "410",
         "410",
         "410",
         "410",
         "410",
         "410",
         "58",
         "410",
         "410"
        ]
       ],
       "shape": {
        "columns": 12,
        "rows": 8
       }
      },
      "text/html": [
       "<div>\n",
       "<style scoped>\n",
       "    .dataframe tbody tr th:only-of-type {\n",
       "        vertical-align: middle;\n",
       "    }\n",
       "\n",
       "    .dataframe tbody tr th {\n",
       "        vertical-align: top;\n",
       "    }\n",
       "\n",
       "    .dataframe thead th {\n",
       "        text-align: right;\n",
       "    }\n",
       "</style>\n",
       "<table border=\"1\" class=\"dataframe\">\n",
       "  <thead>\n",
       "    <tr style=\"text-align: right;\">\n",
       "      <th></th>\n",
       "      <th></th>\n",
       "      <th></th>\n",
       "      <th>survived</th>\n",
       "      <th>pclass</th>\n",
       "      <th>age</th>\n",
       "      <th>sibsp</th>\n",
       "      <th>parch</th>\n",
       "      <th>fare</th>\n",
       "      <th>embarked</th>\n",
       "      <th>class</th>\n",
       "      <th>adult_male</th>\n",
       "      <th>deck</th>\n",
       "      <th>embark_town</th>\n",
       "      <th>alive</th>\n",
       "    </tr>\n",
       "    <tr>\n",
       "      <th>sex</th>\n",
       "      <th>who</th>\n",
       "      <th>alone</th>\n",
       "      <th></th>\n",
       "      <th></th>\n",
       "      <th></th>\n",
       "      <th></th>\n",
       "      <th></th>\n",
       "      <th></th>\n",
       "      <th></th>\n",
       "      <th></th>\n",
       "      <th></th>\n",
       "      <th></th>\n",
       "      <th></th>\n",
       "      <th></th>\n",
       "    </tr>\n",
       "  </thead>\n",
       "  <tbody>\n",
       "    <tr>\n",
       "      <th rowspan=\"4\" valign=\"top\">female</th>\n",
       "      <th rowspan=\"2\" valign=\"top\">child</th>\n",
       "      <th>False</th>\n",
       "      <td>38</td>\n",
       "      <td>38</td>\n",
       "      <td>38</td>\n",
       "      <td>38</td>\n",
       "      <td>38</td>\n",
       "      <td>38</td>\n",
       "      <td>38</td>\n",
       "      <td>38</td>\n",
       "      <td>38</td>\n",
       "      <td>6</td>\n",
       "      <td>38</td>\n",
       "      <td>38</td>\n",
       "    </tr>\n",
       "    <tr>\n",
       "      <th>True</th>\n",
       "      <td>5</td>\n",
       "      <td>5</td>\n",
       "      <td>5</td>\n",
       "      <td>5</td>\n",
       "      <td>5</td>\n",
       "      <td>5</td>\n",
       "      <td>5</td>\n",
       "      <td>5</td>\n",
       "      <td>5</td>\n",
       "      <td>0</td>\n",
       "      <td>5</td>\n",
       "      <td>5</td>\n",
       "    </tr>\n",
       "    <tr>\n",
       "      <th rowspan=\"2\" valign=\"top\">woman</th>\n",
       "      <th>False</th>\n",
       "      <td>150</td>\n",
       "      <td>150</td>\n",
       "      <td>123</td>\n",
       "      <td>150</td>\n",
       "      <td>150</td>\n",
       "      <td>150</td>\n",
       "      <td>150</td>\n",
       "      <td>150</td>\n",
       "      <td>150</td>\n",
       "      <td>56</td>\n",
       "      <td>150</td>\n",
       "      <td>150</td>\n",
       "    </tr>\n",
       "    <tr>\n",
       "      <th>True</th>\n",
       "      <td>121</td>\n",
       "      <td>121</td>\n",
       "      <td>95</td>\n",
       "      <td>121</td>\n",
       "      <td>121</td>\n",
       "      <td>121</td>\n",
       "      <td>119</td>\n",
       "      <td>121</td>\n",
       "      <td>121</td>\n",
       "      <td>35</td>\n",
       "      <td>119</td>\n",
       "      <td>121</td>\n",
       "    </tr>\n",
       "    <tr>\n",
       "      <th rowspan=\"4\" valign=\"top\">male</th>\n",
       "      <th rowspan=\"2\" valign=\"top\">child</th>\n",
       "      <th>False</th>\n",
       "      <td>39</td>\n",
       "      <td>39</td>\n",
       "      <td>39</td>\n",
       "      <td>39</td>\n",
       "      <td>39</td>\n",
       "      <td>39</td>\n",
       "      <td>39</td>\n",
       "      <td>39</td>\n",
       "      <td>39</td>\n",
       "      <td>7</td>\n",
       "      <td>39</td>\n",
       "      <td>39</td>\n",
       "    </tr>\n",
       "    <tr>\n",
       "      <th>True</th>\n",
       "      <td>1</td>\n",
       "      <td>1</td>\n",
       "      <td>1</td>\n",
       "      <td>1</td>\n",
       "      <td>1</td>\n",
       "      <td>1</td>\n",
       "      <td>1</td>\n",
       "      <td>1</td>\n",
       "      <td>1</td>\n",
       "      <td>0</td>\n",
       "      <td>1</td>\n",
       "      <td>1</td>\n",
       "    </tr>\n",
       "    <tr>\n",
       "      <th rowspan=\"2\" valign=\"top\">man</th>\n",
       "      <th>False</th>\n",
       "      <td>127</td>\n",
       "      <td>127</td>\n",
       "      <td>110</td>\n",
       "      <td>127</td>\n",
       "      <td>127</td>\n",
       "      <td>127</td>\n",
       "      <td>127</td>\n",
       "      <td>127</td>\n",
       "      <td>127</td>\n",
       "      <td>41</td>\n",
       "      <td>127</td>\n",
       "      <td>127</td>\n",
       "    </tr>\n",
       "    <tr>\n",
       "      <th>True</th>\n",
       "      <td>410</td>\n",
       "      <td>410</td>\n",
       "      <td>303</td>\n",
       "      <td>410</td>\n",
       "      <td>410</td>\n",
       "      <td>410</td>\n",
       "      <td>410</td>\n",
       "      <td>410</td>\n",
       "      <td>410</td>\n",
       "      <td>58</td>\n",
       "      <td>410</td>\n",
       "      <td>410</td>\n",
       "    </tr>\n",
       "  </tbody>\n",
       "</table>\n",
       "</div>"
      ],
      "text/plain": [
       "                    survived  pclass  age  sibsp  parch  fare  embarked  \\\n",
       "sex    who   alone                                                        \n",
       "female child False        38      38   38     38     38    38        38   \n",
       "             True          5       5    5      5      5     5         5   \n",
       "       woman False       150     150  123    150    150   150       150   \n",
       "             True        121     121   95    121    121   121       119   \n",
       "male   child False        39      39   39     39     39    39        39   \n",
       "             True          1       1    1      1      1     1         1   \n",
       "       man   False       127     127  110    127    127   127       127   \n",
       "             True        410     410  303    410    410   410       410   \n",
       "\n",
       "                    class  adult_male  deck  embark_town  alive  \n",
       "sex    who   alone                                               \n",
       "female child False     38          38     6           38     38  \n",
       "             True       5           5     0            5      5  \n",
       "       woman False    150         150    56          150    150  \n",
       "             True     121         121    35          119    121  \n",
       "male   child False     39          39     7           39     39  \n",
       "             True       1           1     0            1      1  \n",
       "       man   False    127         127    41          127    127  \n",
       "             True     410         410    58          410    410  "
      ]
     },
     "execution_count": 379,
     "metadata": {},
     "output_type": "execute_result"
    }
   ],
   "source": [
    "df.groupby(['sex', 'who', 'alone']).count()"
   ]
  },
  {
   "cell_type": "markdown",
   "id": "f4584a4a",
   "metadata": {},
   "source": [
    "# 18- Selet spicific rows and columns"
   ]
  },
  {
   "cell_type": "code",
   "execution_count": 387,
   "id": "a2dd1ab6",
   "metadata": {},
   "outputs": [
    {
     "data": {
      "application/vnd.microsoft.datawrangler.viewer.v0+json": {
       "columns": [
        {
         "name": "index",
         "rawType": "int64",
         "type": "integer"
        },
        {
         "name": "survived",
         "rawType": "int64",
         "type": "integer"
        },
        {
         "name": "pclass",
         "rawType": "int64",
         "type": "integer"
        },
        {
         "name": "sex",
         "rawType": "object",
         "type": "string"
        },
        {
         "name": "age",
         "rawType": "float64",
         "type": "float"
        },
        {
         "name": "sibsp",
         "rawType": "int64",
         "type": "integer"
        },
        {
         "name": "parch",
         "rawType": "int64",
         "type": "integer"
        },
        {
         "name": "fare",
         "rawType": "float64",
         "type": "float"
        },
        {
         "name": "embarked",
         "rawType": "object",
         "type": "string"
        },
        {
         "name": "class",
         "rawType": "category",
         "type": "unknown"
        },
        {
         "name": "who",
         "rawType": "object",
         "type": "string"
        },
        {
         "name": "adult_male",
         "rawType": "bool",
         "type": "boolean"
        },
        {
         "name": "deck",
         "rawType": "category",
         "type": "unknown"
        },
        {
         "name": "embark_town",
         "rawType": "object",
         "type": "string"
        },
        {
         "name": "alive",
         "rawType": "object",
         "type": "string"
        },
        {
         "name": "alone",
         "rawType": "bool",
         "type": "boolean"
        }
       ],
       "ref": "dd8ce40e-c497-427c-a167-d5cc60090f08",
       "rows": [
        [
         "0",
         "0",
         "3",
         "male",
         "22.0",
         "1",
         "0",
         "7.25",
         "S",
         "Third",
         "man",
         "True",
         null,
         "Southampton",
         "no",
         "False"
        ],
        [
         "1",
         "1",
         "1",
         "female",
         "38.0",
         "1",
         "0",
         "71.2833",
         "C",
         "First",
         "woman",
         "False",
         "C",
         "Cherbourg",
         "yes",
         "False"
        ],
        [
         "2",
         "1",
         "3",
         "female",
         "26.0",
         "0",
         "0",
         "7.925",
         "S",
         "Third",
         "woman",
         "False",
         null,
         "Southampton",
         "yes",
         "True"
        ],
        [
         "3",
         "1",
         "1",
         "female",
         "35.0",
         "1",
         "0",
         "53.1",
         "S",
         "First",
         "woman",
         "False",
         "C",
         "Southampton",
         "yes",
         "False"
        ],
        [
         "4",
         "0",
         "3",
         "male",
         "35.0",
         "0",
         "0",
         "8.05",
         "S",
         "Third",
         "man",
         "True",
         null,
         "Southampton",
         "no",
         "True"
        ]
       ],
       "shape": {
        "columns": 15,
        "rows": 5
       }
      },
      "text/html": [
       "<div>\n",
       "<style scoped>\n",
       "    .dataframe tbody tr th:only-of-type {\n",
       "        vertical-align: middle;\n",
       "    }\n",
       "\n",
       "    .dataframe tbody tr th {\n",
       "        vertical-align: top;\n",
       "    }\n",
       "\n",
       "    .dataframe thead th {\n",
       "        text-align: right;\n",
       "    }\n",
       "</style>\n",
       "<table border=\"1\" class=\"dataframe\">\n",
       "  <thead>\n",
       "    <tr style=\"text-align: right;\">\n",
       "      <th></th>\n",
       "      <th>survived</th>\n",
       "      <th>pclass</th>\n",
       "      <th>sex</th>\n",
       "      <th>age</th>\n",
       "      <th>sibsp</th>\n",
       "      <th>parch</th>\n",
       "      <th>fare</th>\n",
       "      <th>embarked</th>\n",
       "      <th>class</th>\n",
       "      <th>who</th>\n",
       "      <th>adult_male</th>\n",
       "      <th>deck</th>\n",
       "      <th>embark_town</th>\n",
       "      <th>alive</th>\n",
       "      <th>alone</th>\n",
       "    </tr>\n",
       "  </thead>\n",
       "  <tbody>\n",
       "    <tr>\n",
       "      <th>0</th>\n",
       "      <td>0</td>\n",
       "      <td>3</td>\n",
       "      <td>male</td>\n",
       "      <td>22.0</td>\n",
       "      <td>1</td>\n",
       "      <td>0</td>\n",
       "      <td>7.2500</td>\n",
       "      <td>S</td>\n",
       "      <td>Third</td>\n",
       "      <td>man</td>\n",
       "      <td>True</td>\n",
       "      <td>NaN</td>\n",
       "      <td>Southampton</td>\n",
       "      <td>no</td>\n",
       "      <td>False</td>\n",
       "    </tr>\n",
       "    <tr>\n",
       "      <th>1</th>\n",
       "      <td>1</td>\n",
       "      <td>1</td>\n",
       "      <td>female</td>\n",
       "      <td>38.0</td>\n",
       "      <td>1</td>\n",
       "      <td>0</td>\n",
       "      <td>71.2833</td>\n",
       "      <td>C</td>\n",
       "      <td>First</td>\n",
       "      <td>woman</td>\n",
       "      <td>False</td>\n",
       "      <td>C</td>\n",
       "      <td>Cherbourg</td>\n",
       "      <td>yes</td>\n",
       "      <td>False</td>\n",
       "    </tr>\n",
       "    <tr>\n",
       "      <th>2</th>\n",
       "      <td>1</td>\n",
       "      <td>3</td>\n",
       "      <td>female</td>\n",
       "      <td>26.0</td>\n",
       "      <td>0</td>\n",
       "      <td>0</td>\n",
       "      <td>7.9250</td>\n",
       "      <td>S</td>\n",
       "      <td>Third</td>\n",
       "      <td>woman</td>\n",
       "      <td>False</td>\n",
       "      <td>NaN</td>\n",
       "      <td>Southampton</td>\n",
       "      <td>yes</td>\n",
       "      <td>True</td>\n",
       "    </tr>\n",
       "    <tr>\n",
       "      <th>3</th>\n",
       "      <td>1</td>\n",
       "      <td>1</td>\n",
       "      <td>female</td>\n",
       "      <td>35.0</td>\n",
       "      <td>1</td>\n",
       "      <td>0</td>\n",
       "      <td>53.1000</td>\n",
       "      <td>S</td>\n",
       "      <td>First</td>\n",
       "      <td>woman</td>\n",
       "      <td>False</td>\n",
       "      <td>C</td>\n",
       "      <td>Southampton</td>\n",
       "      <td>yes</td>\n",
       "      <td>False</td>\n",
       "    </tr>\n",
       "    <tr>\n",
       "      <th>4</th>\n",
       "      <td>0</td>\n",
       "      <td>3</td>\n",
       "      <td>male</td>\n",
       "      <td>35.0</td>\n",
       "      <td>0</td>\n",
       "      <td>0</td>\n",
       "      <td>8.0500</td>\n",
       "      <td>S</td>\n",
       "      <td>Third</td>\n",
       "      <td>man</td>\n",
       "      <td>True</td>\n",
       "      <td>NaN</td>\n",
       "      <td>Southampton</td>\n",
       "      <td>no</td>\n",
       "      <td>True</td>\n",
       "    </tr>\n",
       "  </tbody>\n",
       "</table>\n",
       "</div>"
      ],
      "text/plain": [
       "   survived  pclass     sex   age  sibsp  parch     fare embarked  class  \\\n",
       "0         0       3    male  22.0      1      0   7.2500        S  Third   \n",
       "1         1       1  female  38.0      1      0  71.2833        C  First   \n",
       "2         1       3  female  26.0      0      0   7.9250        S  Third   \n",
       "3         1       1  female  35.0      1      0  53.1000        S  First   \n",
       "4         0       3    male  35.0      0      0   8.0500        S  Third   \n",
       "\n",
       "     who  adult_male deck  embark_town alive  alone  \n",
       "0    man        True  NaN  Southampton    no  False  \n",
       "1  woman       False    C    Cherbourg   yes  False  \n",
       "2  woman       False  NaN  Southampton   yes   True  \n",
       "3  woman       False    C  Southampton   yes  False  \n",
       "4    man        True  NaN  Southampton    no   True  "
      ]
     },
     "execution_count": 387,
     "metadata": {},
     "output_type": "execute_result"
    }
   ],
   "source": [
    "df.head()"
   ]
  },
  {
   "cell_type": "code",
   "execution_count": null,
   "id": "95d1b81a",
   "metadata": {},
   "outputs": [
    {
     "data": {
      "application/vnd.microsoft.datawrangler.viewer.v0+json": {
       "columns": [
        {
         "name": "index",
         "rawType": "int64",
         "type": "integer"
        },
        {
         "name": "sex",
         "rawType": "object",
         "type": "string"
        },
        {
         "name": "class",
         "rawType": "category",
         "type": "unknown"
        }
       ],
       "ref": "be72c026-cb9c-42b1-aebb-70d01eb186ba",
       "rows": [
        [
         "0",
         "male",
         "Third"
        ],
        [
         "1",
         "female",
         "First"
        ],
        [
         "2",
         "female",
         "Third"
        ],
        [
         "3",
         "female",
         "First"
        ],
        [
         "4",
         "male",
         "Third"
        ],
        [
         "5",
         "male",
         "Third"
        ],
        [
         "6",
         "male",
         "First"
        ],
        [
         "7",
         "male",
         "Third"
        ],
        [
         "8",
         "female",
         "Third"
        ],
        [
         "9",
         "female",
         "Second"
        ],
        [
         "10",
         "female",
         "Third"
        ],
        [
         "11",
         "female",
         "First"
        ],
        [
         "12",
         "male",
         "Third"
        ],
        [
         "13",
         "male",
         "Third"
        ],
        [
         "14",
         "female",
         "Third"
        ],
        [
         "15",
         "female",
         "Second"
        ],
        [
         "16",
         "male",
         "Third"
        ],
        [
         "17",
         "male",
         "Second"
        ],
        [
         "18",
         "female",
         "Third"
        ],
        [
         "19",
         "female",
         "Third"
        ],
        [
         "20",
         "male",
         "Second"
        ],
        [
         "21",
         "male",
         "Second"
        ],
        [
         "22",
         "female",
         "Third"
        ],
        [
         "23",
         "male",
         "First"
        ],
        [
         "24",
         "female",
         "Third"
        ],
        [
         "25",
         "female",
         "Third"
        ],
        [
         "26",
         "male",
         "Third"
        ],
        [
         "27",
         "male",
         "First"
        ],
        [
         "28",
         "female",
         "Third"
        ],
        [
         "29",
         "male",
         "Third"
        ],
        [
         "30",
         "male",
         "First"
        ],
        [
         "31",
         "female",
         "First"
        ],
        [
         "32",
         "female",
         "Third"
        ],
        [
         "33",
         "male",
         "Second"
        ],
        [
         "34",
         "male",
         "First"
        ],
        [
         "35",
         "male",
         "First"
        ],
        [
         "36",
         "male",
         "Third"
        ],
        [
         "37",
         "male",
         "Third"
        ],
        [
         "38",
         "female",
         "Third"
        ],
        [
         "39",
         "female",
         "Third"
        ],
        [
         "40",
         "female",
         "Third"
        ],
        [
         "41",
         "female",
         "Second"
        ],
        [
         "42",
         "male",
         "Third"
        ],
        [
         "43",
         "female",
         "Second"
        ],
        [
         "44",
         "female",
         "Third"
        ],
        [
         "45",
         "male",
         "Third"
        ],
        [
         "46",
         "male",
         "Third"
        ],
        [
         "47",
         "female",
         "Third"
        ],
        [
         "48",
         "male",
         "Third"
        ],
        [
         "49",
         "female",
         "Third"
        ]
       ],
       "shape": {
        "columns": 2,
        "rows": 891
       }
      },
      "text/html": [
       "<div>\n",
       "<style scoped>\n",
       "    .dataframe tbody tr th:only-of-type {\n",
       "        vertical-align: middle;\n",
       "    }\n",
       "\n",
       "    .dataframe tbody tr th {\n",
       "        vertical-align: top;\n",
       "    }\n",
       "\n",
       "    .dataframe thead th {\n",
       "        text-align: right;\n",
       "    }\n",
       "</style>\n",
       "<table border=\"1\" class=\"dataframe\">\n",
       "  <thead>\n",
       "    <tr style=\"text-align: right;\">\n",
       "      <th></th>\n",
       "      <th>sex</th>\n",
       "      <th>class</th>\n",
       "    </tr>\n",
       "  </thead>\n",
       "  <tbody>\n",
       "    <tr>\n",
       "      <th>0</th>\n",
       "      <td>male</td>\n",
       "      <td>Third</td>\n",
       "    </tr>\n",
       "    <tr>\n",
       "      <th>1</th>\n",
       "      <td>female</td>\n",
       "      <td>First</td>\n",
       "    </tr>\n",
       "    <tr>\n",
       "      <th>2</th>\n",
       "      <td>female</td>\n",
       "      <td>Third</td>\n",
       "    </tr>\n",
       "    <tr>\n",
       "      <th>3</th>\n",
       "      <td>female</td>\n",
       "      <td>First</td>\n",
       "    </tr>\n",
       "    <tr>\n",
       "      <th>4</th>\n",
       "      <td>male</td>\n",
       "      <td>Third</td>\n",
       "    </tr>\n",
       "    <tr>\n",
       "      <th>...</th>\n",
       "      <td>...</td>\n",
       "      <td>...</td>\n",
       "    </tr>\n",
       "    <tr>\n",
       "      <th>886</th>\n",
       "      <td>male</td>\n",
       "      <td>Second</td>\n",
       "    </tr>\n",
       "    <tr>\n",
       "      <th>887</th>\n",
       "      <td>female</td>\n",
       "      <td>First</td>\n",
       "    </tr>\n",
       "    <tr>\n",
       "      <th>888</th>\n",
       "      <td>female</td>\n",
       "      <td>Third</td>\n",
       "    </tr>\n",
       "    <tr>\n",
       "      <th>889</th>\n",
       "      <td>male</td>\n",
       "      <td>First</td>\n",
       "    </tr>\n",
       "    <tr>\n",
       "      <th>890</th>\n",
       "      <td>male</td>\n",
       "      <td>Third</td>\n",
       "    </tr>\n",
       "  </tbody>\n",
       "</table>\n",
       "<p>891 rows × 2 columns</p>\n",
       "</div>"
      ],
      "text/plain": [
       "        sex   class\n",
       "0      male   Third\n",
       "1    female   First\n",
       "2    female   Third\n",
       "3    female   First\n",
       "4      male   Third\n",
       "..      ...     ...\n",
       "886    male  Second\n",
       "887  female   First\n",
       "888  female   Third\n",
       "889    male   First\n",
       "890    male   Third\n",
       "\n",
       "[891 rows x 2 columns]"
      ]
     },
     "execution_count": 388,
     "metadata": {},
     "output_type": "execute_result"
    }
   ],
   "source": [
    "# columns selction\n",
    "df[['sex', 'class']]"
   ]
  },
  {
   "cell_type": "code",
   "execution_count": 381,
   "id": "bf337b90",
   "metadata": {},
   "outputs": [
    {
     "data": {
      "application/vnd.microsoft.datawrangler.viewer.v0+json": {
       "columns": [
        {
         "name": "index",
         "rawType": "object",
         "type": "string"
        },
        {
         "name": "survived",
         "rawType": "float64",
         "type": "float"
        },
        {
         "name": "pclass",
         "rawType": "float64",
         "type": "float"
        },
        {
         "name": "age",
         "rawType": "float64",
         "type": "float"
        },
        {
         "name": "sibsp",
         "rawType": "float64",
         "type": "float"
        },
        {
         "name": "parch",
         "rawType": "float64",
         "type": "float"
        },
        {
         "name": "fare",
         "rawType": "float64",
         "type": "float"
        }
       ],
       "ref": "d07045c1-3777-433a-a2c4-f293c3273bb8",
       "rows": [
        [
         "count",
         "891.0",
         "891.0",
         "714.0",
         "891.0",
         "891.0",
         "891.0"
        ],
        [
         "mean",
         "0.3838383838383838",
         "2.308641975308642",
         "29.69911764705882",
         "0.5230078563411896",
         "0.38159371492704824",
         "32.204207968574636"
        ],
        [
         "std",
         "0.4865924542648575",
         "0.836071240977049",
         "14.526497332334042",
         "1.1027434322934317",
         "0.8060572211299483",
         "49.6934285971809"
        ],
        [
         "min",
         "0.0",
         "1.0",
         "0.42",
         "0.0",
         "0.0",
         "0.0"
        ],
        [
         "25%",
         "0.0",
         "2.0",
         "20.125",
         "0.0",
         "0.0",
         "7.9104"
        ],
        [
         "50%",
         "0.0",
         "3.0",
         "28.0",
         "0.0",
         "0.0",
         "14.4542"
        ],
        [
         "75%",
         "1.0",
         "3.0",
         "38.0",
         "1.0",
         "0.0",
         "31.0"
        ],
        [
         "max",
         "1.0",
         "3.0",
         "80.0",
         "8.0",
         "6.0",
         "512.3292"
        ]
       ],
       "shape": {
        "columns": 6,
        "rows": 8
       }
      },
      "text/html": [
       "<div>\n",
       "<style scoped>\n",
       "    .dataframe tbody tr th:only-of-type {\n",
       "        vertical-align: middle;\n",
       "    }\n",
       "\n",
       "    .dataframe tbody tr th {\n",
       "        vertical-align: top;\n",
       "    }\n",
       "\n",
       "    .dataframe thead th {\n",
       "        text-align: right;\n",
       "    }\n",
       "</style>\n",
       "<table border=\"1\" class=\"dataframe\">\n",
       "  <thead>\n",
       "    <tr style=\"text-align: right;\">\n",
       "      <th></th>\n",
       "      <th>survived</th>\n",
       "      <th>pclass</th>\n",
       "      <th>age</th>\n",
       "      <th>sibsp</th>\n",
       "      <th>parch</th>\n",
       "      <th>fare</th>\n",
       "    </tr>\n",
       "  </thead>\n",
       "  <tbody>\n",
       "    <tr>\n",
       "      <th>count</th>\n",
       "      <td>891.000000</td>\n",
       "      <td>891.000000</td>\n",
       "      <td>714.000000</td>\n",
       "      <td>891.000000</td>\n",
       "      <td>891.000000</td>\n",
       "      <td>891.000000</td>\n",
       "    </tr>\n",
       "    <tr>\n",
       "      <th>mean</th>\n",
       "      <td>0.383838</td>\n",
       "      <td>2.308642</td>\n",
       "      <td>29.699118</td>\n",
       "      <td>0.523008</td>\n",
       "      <td>0.381594</td>\n",
       "      <td>32.204208</td>\n",
       "    </tr>\n",
       "    <tr>\n",
       "      <th>std</th>\n",
       "      <td>0.486592</td>\n",
       "      <td>0.836071</td>\n",
       "      <td>14.526497</td>\n",
       "      <td>1.102743</td>\n",
       "      <td>0.806057</td>\n",
       "      <td>49.693429</td>\n",
       "    </tr>\n",
       "    <tr>\n",
       "      <th>min</th>\n",
       "      <td>0.000000</td>\n",
       "      <td>1.000000</td>\n",
       "      <td>0.420000</td>\n",
       "      <td>0.000000</td>\n",
       "      <td>0.000000</td>\n",
       "      <td>0.000000</td>\n",
       "    </tr>\n",
       "    <tr>\n",
       "      <th>25%</th>\n",
       "      <td>0.000000</td>\n",
       "      <td>2.000000</td>\n",
       "      <td>20.125000</td>\n",
       "      <td>0.000000</td>\n",
       "      <td>0.000000</td>\n",
       "      <td>7.910400</td>\n",
       "    </tr>\n",
       "    <tr>\n",
       "      <th>50%</th>\n",
       "      <td>0.000000</td>\n",
       "      <td>3.000000</td>\n",
       "      <td>28.000000</td>\n",
       "      <td>0.000000</td>\n",
       "      <td>0.000000</td>\n",
       "      <td>14.454200</td>\n",
       "    </tr>\n",
       "    <tr>\n",
       "      <th>75%</th>\n",
       "      <td>1.000000</td>\n",
       "      <td>3.000000</td>\n",
       "      <td>38.000000</td>\n",
       "      <td>1.000000</td>\n",
       "      <td>0.000000</td>\n",
       "      <td>31.000000</td>\n",
       "    </tr>\n",
       "    <tr>\n",
       "      <th>max</th>\n",
       "      <td>1.000000</td>\n",
       "      <td>3.000000</td>\n",
       "      <td>80.000000</td>\n",
       "      <td>8.000000</td>\n",
       "      <td>6.000000</td>\n",
       "      <td>512.329200</td>\n",
       "    </tr>\n",
       "  </tbody>\n",
       "</table>\n",
       "</div>"
      ],
      "text/plain": [
       "         survived      pclass         age       sibsp       parch        fare\n",
       "count  891.000000  891.000000  714.000000  891.000000  891.000000  891.000000\n",
       "mean     0.383838    2.308642   29.699118    0.523008    0.381594   32.204208\n",
       "std      0.486592    0.836071   14.526497    1.102743    0.806057   49.693429\n",
       "min      0.000000    1.000000    0.420000    0.000000    0.000000    0.000000\n",
       "25%      0.000000    2.000000   20.125000    0.000000    0.000000    7.910400\n",
       "50%      0.000000    3.000000   28.000000    0.000000    0.000000   14.454200\n",
       "75%      1.000000    3.000000   38.000000    1.000000    0.000000   31.000000\n",
       "max      1.000000    3.000000   80.000000    8.000000    6.000000  512.329200"
      ]
     },
     "execution_count": 381,
     "metadata": {},
     "output_type": "execute_result"
    }
   ],
   "source": [
    "df.describe()"
   ]
  },
  {
   "cell_type": "code",
   "execution_count": null,
   "id": "54ec4271",
   "metadata": {},
   "outputs": [
    {
     "data": {
      "application/vnd.microsoft.datawrangler.viewer.v0+json": {
       "columns": [
        {
         "name": "index",
         "rawType": "object",
         "type": "string"
        },
        {
         "name": "survived",
         "rawType": "float64",
         "type": "float"
        },
        {
         "name": "pclass",
         "rawType": "float64",
         "type": "float"
        },
        {
         "name": "age",
         "rawType": "float64",
         "type": "float"
        },
        {
         "name": "sibsp",
         "rawType": "float64",
         "type": "float"
        },
        {
         "name": "parch",
         "rawType": "float64",
         "type": "float"
        },
        {
         "name": "fare",
         "rawType": "float64",
         "type": "float"
        }
       ],
       "ref": "1f8ff736-3f10-40e2-8398-87df034d7c1f",
       "rows": [
        [
         "max",
         "1.0",
         "3.0",
         "80.0",
         "8.0",
         "6.0",
         "512.3292"
        ],
        [
         "min",
         "0.0",
         "1.0",
         "0.42",
         "0.0",
         "0.0",
         "0.0"
        ]
       ],
       "shape": {
        "columns": 6,
        "rows": 2
       }
      },
      "text/html": [
       "<div>\n",
       "<style scoped>\n",
       "    .dataframe tbody tr th:only-of-type {\n",
       "        vertical-align: middle;\n",
       "    }\n",
       "\n",
       "    .dataframe tbody tr th {\n",
       "        vertical-align: top;\n",
       "    }\n",
       "\n",
       "    .dataframe thead th {\n",
       "        text-align: right;\n",
       "    }\n",
       "</style>\n",
       "<table border=\"1\" class=\"dataframe\">\n",
       "  <thead>\n",
       "    <tr style=\"text-align: right;\">\n",
       "      <th></th>\n",
       "      <th>survived</th>\n",
       "      <th>pclass</th>\n",
       "      <th>age</th>\n",
       "      <th>sibsp</th>\n",
       "      <th>parch</th>\n",
       "      <th>fare</th>\n",
       "    </tr>\n",
       "  </thead>\n",
       "  <tbody>\n",
       "    <tr>\n",
       "      <th>max</th>\n",
       "      <td>1.0</td>\n",
       "      <td>3.0</td>\n",
       "      <td>80.00</td>\n",
       "      <td>8.0</td>\n",
       "      <td>6.0</td>\n",
       "      <td>512.3292</td>\n",
       "    </tr>\n",
       "    <tr>\n",
       "      <th>min</th>\n",
       "      <td>0.0</td>\n",
       "      <td>1.0</td>\n",
       "      <td>0.42</td>\n",
       "      <td>0.0</td>\n",
       "      <td>0.0</td>\n",
       "      <td>0.0000</td>\n",
       "    </tr>\n",
       "  </tbody>\n",
       "</table>\n",
       "</div>"
      ],
      "text/plain": [
       "     survived  pclass    age  sibsp  parch      fare\n",
       "max       1.0     3.0  80.00    8.0    6.0  512.3292\n",
       "min       0.0     1.0   0.42    0.0    0.0    0.0000"
      ]
     },
     "execution_count": 386,
     "metadata": {},
     "output_type": "execute_result"
    }
   ],
   "source": [
    "# rows selction\n",
    "df.describe().loc[['max', 'min']]"
   ]
  },
  {
   "cell_type": "code",
   "execution_count": null,
   "id": "4284116f",
   "metadata": {},
   "outputs": [],
   "source": [
    "df.describe().lo"
   ]
  }
 ],
 "metadata": {
  "kernelspec": {
   "display_name": "Python 3",
   "language": "python",
   "name": "python3"
  },
  "language_info": {
   "codemirror_mode": {
    "name": "ipython",
    "version": 3
   },
   "file_extension": ".py",
   "mimetype": "text/x-python",
   "name": "python",
   "nbconvert_exporter": "python",
   "pygments_lexer": "ipython3",
   "version": "3.13.1"
  }
 },
 "nbformat": 4,
 "nbformat_minor": 5
}
