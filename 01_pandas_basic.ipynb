{
 "cells": [
  {
   "cell_type": "code",
   "execution_count": null,
   "id": "c56f4c2b",
   "metadata": {},
   "outputs": [],
   "source": [
    "import pandas as pd\n"
   ]
  },
  {
   "cell_type": "markdown",
   "id": "98ba5933",
   "metadata": {},
   "source": [
    "# 01- How to find version"
   ]
  },
  {
   "cell_type": "markdown",
   "id": "053e5c50",
   "metadata": {},
   "source": []
  },
  {
   "cell_type": "code",
   "execution_count": null,
   "id": "755bedfc",
   "metadata": {
    "notebookRunGroups": {
     "groupValue": "1"
    }
   },
   "outputs": [],
   "source": [
    "# Check pandas version\n",
    "pd.__version__"
   ]
  },
  {
   "cell_type": "code",
   "execution_count": null,
   "id": "37311356",
   "metadata": {},
   "outputs": [],
   "source": [
    "# Another way to show pandas verison \n",
    "pd.show_versions()"
   ]
  },
  {
   "cell_type": "markdown",
   "id": "cb8d1d1f",
   "metadata": {},
   "source": [
    " \n",
    "# 02- Make a DataFrame"
   ]
  },
  {
   "cell_type": "markdown",
   "id": "4623edf5",
   "metadata": {},
   "source": []
  },
  {
   "cell_type": "code",
   "execution_count": null,
   "id": "465ebf3e",
   "metadata": {},
   "outputs": [],
   "source": [
    "df = pd.DataFrame({'Col A':[ 1,2,3], \"Col B\": [4,5,6]})\n",
    "df"
   ]
  },
  {
   "cell_type": "code",
   "execution_count": null,
   "id": "8f1cf4af",
   "metadata": {},
   "outputs": [],
   "source": [
    "# Array conversion to DataFrame\n",
    "import numpy as np\n",
    "array = np.array([[1,2,3], [4,5,6], [7,8,9]])\n",
    "array\n",
    "\n",
    "df = pd.DataFrame(array)\n",
    "df"
   ]
  },
  {
   "cell_type": "code",
   "execution_count": null,
   "id": "b8ecd772",
   "metadata": {},
   "outputs": [],
   "source": [
    "# Creating a DataFrame with random floats \n",
    "df = pd.DataFrame(np.random.rand(4,8), columns=list('ABCDEFGH'))\n",
    "df"
   ]
  },
  {
   "cell_type": "markdown",
   "id": "6c441cd2",
   "metadata": {},
   "source": [
    "# 03- How to rename a columns?"
   ]
  },
  {
   "cell_type": "code",
   "execution_count": null,
   "id": "8da0a7d0",
   "metadata": {},
   "outputs": [],
   "source": [
    "# Creating a DataFrame with random integers and specific index and columns with names\n",
    "df = pd.DataFrame(np.random.randint(1,11,size=(4,8))\n",
    "                  ,columns=list(\"ABCDEFGH\")\n",
    "                  , index=['R1', 'R2', 'R3', 'R4'])\n",
    "df"
   ]
  },
  {
   "cell_type": "code",
   "execution_count": null,
   "id": "ab0745f1",
   "metadata": {},
   "outputs": [],
   "source": [
    "df = pd.DataFrame(np.random.randint(1,21, size = (3,3)))\n",
    "df\n",
    "\n"
   ]
  },
  {
   "cell_type": "code",
   "execution_count": null,
   "id": "f1f525d6",
   "metadata": {},
   "outputs": [],
   "source": [
    "# Change colums name\n",
    "df.columns=['col1', 'col2','col3']\n",
    "df"
   ]
  },
  {
   "cell_type": "code",
   "execution_count": null,
   "id": "d4ec156e",
   "metadata": {},
   "outputs": [],
   "source": [
    "# Change rows name\n",
    "df.index=[\"Row-1\", \"Row-2\", \"Row-3\"]\n",
    "df"
   ]
  },
  {
   "cell_type": "code",
   "execution_count": null,
   "id": "e1131250",
   "metadata": {},
   "outputs": [],
   "source": [
    "# to replace any charactor or string\n",
    "df.columns = df.columns.str.replace(\"-\",\"_\")\n",
    "\n",
    "df"
   ]
  },
  {
   "cell_type": "code",
   "execution_count": null,
   "id": "ea4f2e36",
   "metadata": {},
   "outputs": [],
   "source": [
    "# adding perfix in columns\n",
    "df = df.add_prefix(\"A_\")\n",
    "df"
   ]
  },
  {
   "cell_type": "code",
   "execution_count": null,
   "id": "ef06cb9e",
   "metadata": {},
   "outputs": [],
   "source": [
    "# adding suffix in columns\n",
    "df = df.add_suffix(\"_X\")\n",
    "df"
   ]
  },
  {
   "cell_type": "code",
   "execution_count": null,
   "id": "06fa2291",
   "metadata": {},
   "outputs": [],
   "source": [
    "df.columns=[\"col-1\", \"col-2\", 'col-3']\n",
    "df"
   ]
  },
  {
   "cell_type": "markdown",
   "id": "c26a6217",
   "metadata": {},
   "source": [
    "# 04- Using tamplate data"
   ]
  },
  {
   "cell_type": "code",
   "execution_count": null,
   "id": "221428cd",
   "metadata": {},
   "outputs": [],
   "source": [
    "import pandas as pd\n",
    "import numpy as np\n",
    "import seaborn as sns\n",
    "\n",
    "df = sns.load_dataset(\"titanic\")\n",
    "df.head()"
   ]
  },
  {
   "cell_type": "code",
   "execution_count": null,
   "id": "f66c4788",
   "metadata": {},
   "outputs": [],
   "source": [
    "# summary\n",
    "df.describe()"
   ]
  },
  {
   "cell_type": "code",
   "execution_count": null,
   "id": "e7783880",
   "metadata": {},
   "outputs": [],
   "source": [
    "# columns name\n",
    "df.columns"
   ]
  },
  {
   "cell_type": "code",
   "execution_count": null,
   "id": "bf4d6d00",
   "metadata": {},
   "outputs": [],
   "source": [
    "# rows count\n",
    "df.index"
   ]
  },
  {
   "cell_type": "code",
   "execution_count": null,
   "id": "212c3c3d",
   "metadata": {},
   "outputs": [],
   "source": [
    "# save DataFrame to CSV\n",
    "df.to_csv(\"zyx.csv\")"
   ]
  },
  {
   "cell_type": "code",
   "execution_count": null,
   "id": "0b684c9e",
   "metadata": {},
   "outputs": [],
   "source": [
    "# converted to excel\n",
    "df.to_excel(\"xyz.xlsx\")\n",
    "df.head(3)"
   ]
  },
  {
   "cell_type": "markdown",
   "id": "10b175ce",
   "metadata": {},
   "source": [
    "# 05- Using your own data  "
   ]
  },
  {
   "cell_type": "code",
   "execution_count": null,
   "id": "54d3fc66",
   "metadata": {},
   "outputs": [],
   "source": [
    "# read from excel\n",
    "df = pd.read_csv(\"zyx.csv\")\n",
    "df"
   ]
  },
  {
   "cell_type": "markdown",
   "id": "143c95bc",
   "metadata": {},
   "source": [
    "# 06- Reverse rows order"
   ]
  },
  {
   "cell_type": "code",
   "execution_count": null,
   "id": "022f3dd7",
   "metadata": {},
   "outputs": [],
   "source": [
    "import pandas as pd\n",
    "import seaborn as sns"
   ]
  },
  {
   "cell_type": "code",
   "execution_count": null,
   "id": "c912eaba",
   "metadata": {},
   "outputs": [],
   "source": [
    "df = sns.load_dataset(\"titanic\")\n",
    "df.head(3)"
   ]
  },
  {
   "cell_type": "code",
   "execution_count": null,
   "id": "ab847aee",
   "metadata": {},
   "outputs": [],
   "source": [
    "# reverse order\n",
    "df.loc[::-1].head()"
   ]
  },
  {
   "cell_type": "code",
   "execution_count": null,
   "id": "cfc3e0df",
   "metadata": {},
   "outputs": [],
   "source": [
    "# reset index \n",
    "df.loc[::-1].reset_index(drop=True).head()"
   ]
  },
  {
   "cell_type": "markdown",
   "id": "901e6ffb",
   "metadata": {},
   "source": [
    "# 07- Reverse columns order"
   ]
  },
  {
   "cell_type": "code",
   "execution_count": null,
   "id": "bfe8f7f4",
   "metadata": {},
   "outputs": [],
   "source": [
    "df.loc[:, ::-1].head(3)\n"
   ]
  },
  {
   "cell_type": "markdown",
   "id": "feed19a2",
   "metadata": {},
   "source": [
    "# 08- Select a colum by data type"
   ]
  },
  {
   "cell_type": "code",
   "execution_count": null,
   "id": "899892ed",
   "metadata": {},
   "outputs": [],
   "source": [
    "# select only numeric columns\n",
    "df.select_dtypes(include=[\"number\"]).head()"
   ]
  },
  {
   "cell_type": "code",
   "execution_count": null,
   "id": "1198c230",
   "metadata": {},
   "outputs": [],
   "source": [
    "# select only categoryical value\n",
    "df.select_dtypes(include=['category']).head()"
   ]
  },
  {
   "cell_type": "code",
   "execution_count": null,
   "id": "0ec273c2",
   "metadata": {},
   "outputs": [],
   "source": [
    "# select only object type columns\n",
    "df.select_dtypes(include='object').head()"
   ]
  },
  {
   "cell_type": "code",
   "execution_count": null,
   "id": "b87e4190",
   "metadata": {},
   "outputs": [],
   "source": [
    "#select only Float64 type columns\n",
    "df.select_dtypes(include='Float64').head()"
   ]
  },
  {
   "cell_type": "code",
   "execution_count": null,
   "id": "c0d08a91",
   "metadata": {},
   "outputs": [],
   "source": [
    "# select only number and category type columns\n",
    "df.select_dtypes(include=['number', 'category']).head(3)"
   ]
  },
  {
   "cell_type": "code",
   "execution_count": null,
   "id": "b4ad76cd",
   "metadata": {},
   "outputs": [],
   "source": [
    "# select all columns except number type\n",
    "# This will include all non-numeric columns such as object, category, etc.\n",
    "df.select_dtypes(exclude=['number']).head()"
   ]
  },
  {
   "cell_type": "code",
   "execution_count": null,
   "id": "e07ec2ee",
   "metadata": {},
   "outputs": [],
   "source": [
    "# select all columns except category type\n",
    "# This will include all non-category columns such as object, number, etc.\n",
    "df.select_dtypes(exclude=['category']).head()"
   ]
  },
  {
   "cell_type": "markdown",
   "id": "483f9522",
   "metadata": {},
   "source": [
    "# 09- convert numaric into string \n"
   ]
  },
  {
   "cell_type": "code",
   "execution_count": null,
   "id": "5cc94f8a",
   "metadata": {},
   "outputs": [],
   "source": [
    "#\n",
    "df = pd.DataFrame({ \"col_A\" :[1,2,3,4,5],\n",
    "                   'col_B' :[6,7,8,9,10]})\n",
    "df.dtypes"
   ]
  },
  {
   "cell_type": "code",
   "execution_count": null,
   "id": "8e1ccf06",
   "metadata": {},
   "outputs": [],
   "source": [
    "# Convert column 'col_A' to string type and 'col_B' to string type\n",
    "df.astype({'col_A': 'str', \"col_B\": 'str'}).dtypes"
   ]
  },
  {
   "cell_type": "code",
   "execution_count": null,
   "id": "9429c21d",
   "metadata": {},
   "outputs": [],
   "source": [
    "# Convert column 'col_A' to numeric type, coercing errors means that if there are any non-numeric values, they will be replaced with NaN\n",
    "pd.to_numeric(df['col_A'],errors=\"coerce\")"
   ]
  },
  {
   "cell_type": "markdown",
   "id": "ac648386",
   "metadata": {},
   "source": [
    "# 10- Reduce DataFrame size"
   ]
  },
  {
   "cell_type": "code",
   "execution_count": null,
   "id": "0621c59d",
   "metadata": {},
   "outputs": [],
   "source": [
    "# reduce the DataFrame to a sample of 10% of its rows\n",
    "df = sns.load_dataset('titanic')\n",
    "\n",
    "df.sample(frac=0.1).shape\n",
    "df.info()"
   ]
  },
  {
   "cell_type": "markdown",
   "id": "f2e3eeac",
   "metadata": {},
   "source": [
    "# 11- copy DataFrame from clip board"
   ]
  },
  {
   "cell_type": "markdown",
   "id": "6630894c",
   "metadata": {},
   "source": []
  },
  {
   "cell_type": "code",
   "execution_count": null,
   "id": "6b61c270",
   "metadata": {},
   "outputs": [],
   "source": [
    "import pandas as pd\n",
    "import seaborn as sns\n",
    "\n",
    "df = sns.load_dataset('titanic')\n",
    "df.to_excel(\"titanic_sample.xlsx\", index=False)"
   ]
  },
  {
   "cell_type": "code",
   "execution_count": null,
   "id": "58e09d19",
   "metadata": {},
   "outputs": [],
   "source": [
    "# read from clipboard\n",
    "df = pd.read_clipboard()\n",
    "df"
   ]
  },
  {
   "cell_type": "markdown",
   "id": "e47d00ee",
   "metadata": {},
   "source": [
    "# 12- Split dataframe in two subsets"
   ]
  },
  {
   "cell_type": "code",
   "execution_count": null,
   "id": "360c3485",
   "metadata": {},
   "outputs": [],
   "source": [
    "import pandas as pd\n",
    "import seaborn as sns\n",
    "\n",
    "df = sns.load_dataset('titanic')\n",
    "\n"
   ]
  },
  {
   "cell_type": "code",
   "execution_count": null,
   "id": "1598c01b",
   "metadata": {},
   "outputs": [],
   "source": [
    "from random import random\n",
    "df_1 = df.sample(frac=0.50, random_state=1 )\n",
    "df_1.shape"
   ]
  },
  {
   "cell_type": "code",
   "execution_count": null,
   "id": "b8e3d832",
   "metadata": {},
   "outputs": [],
   "source": [
    "df_2 = df.drop(df_1.index)\n",
    "df_2.shape"
   ]
  },
  {
   "cell_type": "code",
   "execution_count": null,
   "id": "6a3eb13a",
   "metadata": {},
   "outputs": [],
   "source": [
    "df_1.head(4)"
   ]
  },
  {
   "cell_type": "code",
   "execution_count": null,
   "id": "45a72fa6",
   "metadata": {},
   "outputs": [],
   "source": [
    "df_2.head(4)"
   ]
  },
  {
   "cell_type": "code",
   "execution_count": null,
   "id": "667e0b82",
   "metadata": {},
   "outputs": [],
   "source": [
    "df_1.shape"
   ]
  },
  {
   "cell_type": "code",
   "execution_count": null,
   "id": "d0633acd",
   "metadata": {},
   "outputs": [],
   "source": [
    "df_2.shape"
   ]
  },
  {
   "cell_type": "code",
   "execution_count": null,
   "id": "a1c2c6db",
   "metadata": {},
   "outputs": [],
   "source": [
    "len(df_2) + len(df_1)"
   ]
  },
  {
   "cell_type": "markdown",
   "id": "8994cdba",
   "metadata": {},
   "source": [
    "# 13- Concat two datasets in one dataframe"
   ]
  },
  {
   "cell_type": "code",
   "execution_count": null,
   "id": "f423c69c",
   "metadata": {},
   "outputs": [],
   "source": [
    "df = pd.concat([df_1, df_2])\n",
    "df.shape"
   ]
  },
  {
   "cell_type": "markdown",
   "id": "a45df07f",
   "metadata": {},
   "source": [
    "# 14- Filtering a dataframe"
   ]
  },
  {
   "cell_type": "code",
   "execution_count": null,
   "id": "b940f420",
   "metadata": {},
   "outputs": [],
   "source": [
    "df.head()"
   ]
  },
  {
   "cell_type": "code",
   "execution_count": null,
   "id": "d39cacab",
   "metadata": {},
   "outputs": [],
   "source": [
    "df.sex.unique()"
   ]
  },
  {
   "cell_type": "markdown",
   "id": "66b74aed",
   "metadata": {},
   "source": []
  },
  {
   "cell_type": "code",
   "execution_count": null,
   "id": "c34f924f",
   "metadata": {},
   "outputs": [],
   "source": [
    "df[(df.sex==\"male\")]"
   ]
  },
  {
   "cell_type": "code",
   "execution_count": null,
   "id": "91d2b54b",
   "metadata": {},
   "outputs": [],
   "source": [
    "df.who.unique()"
   ]
  },
  {
   "cell_type": "code",
   "execution_count": null,
   "id": "cbcf129f",
   "metadata": {},
   "outputs": [],
   "source": [
    "df[(df.who=='child') & (df.age>14)]"
   ]
  },
  {
   "cell_type": "code",
   "execution_count": null,
   "id": "9b4f5912",
   "metadata": {},
   "outputs": [],
   "source": [
    "df[(df.alive=='yes')].shape"
   ]
  },
  {
   "cell_type": "code",
   "execution_count": null,
   "id": "100758e5",
   "metadata": {},
   "outputs": [],
   "source": [
    "df[(df.alive=='no')].shape"
   ]
  },
  {
   "cell_type": "code",
   "execution_count": null,
   "id": "fdf8a003",
   "metadata": {},
   "outputs": [],
   "source": [
    "df.head()"
   ]
  },
  {
   "cell_type": "code",
   "execution_count": null,
   "id": "7072586b",
   "metadata": {},
   "outputs": [],
   "source": [
    "df[\n",
    "    ( (df.embark_town == 'Southampton') ) |\n",
    "    ( (df.embark_town == 'Queenstown') & (df.alone == \"True\") )\n",
    "]\n"
   ]
  },
  {
   "cell_type": "code",
   "execution_count": null,
   "id": "714d2e7d",
   "metadata": {},
   "outputs": [],
   "source": [
    "filter_df = df [(\n",
    "    (df.age >= 18) &\n",
    "    (df.sex == \"female\") &\n",
    "    (df.alive == 'yes')\n",
    "\n",
    ")]"
   ]
  },
  {
   "cell_type": "code",
   "execution_count": null,
   "id": "5e34f126",
   "metadata": {},
   "outputs": [],
   "source": [
    "result = filter_df[['age', 'sex', 'alive']]\n",
    "result\n"
   ]
  },
  {
   "cell_type": "markdown",
   "id": "a0a89f3f",
   "metadata": {},
   "source": [
    "# 15- Filter by large category"
   ]
  },
  {
   "cell_type": "code",
   "execution_count": null,
   "id": "b7b22c7a",
   "metadata": {},
   "outputs": [],
   "source": [
    "df.sex.value_counts()"
   ]
  },
  {
   "cell_type": "code",
   "execution_count": null,
   "id": "2b38676d",
   "metadata": {},
   "outputs": [],
   "source": [
    "df.alive.value_counts()"
   ]
  },
  {
   "cell_type": "code",
   "execution_count": null,
   "id": "af65034c",
   "metadata": {},
   "outputs": [],
   "source": [
    "df.alone.value_counts()"
   ]
  },
  {
   "cell_type": "code",
   "execution_count": null,
   "id": "e4237e68",
   "metadata": {},
   "outputs": [],
   "source": [
    "df.age.value_counts().nlargest(4)"
   ]
  },
  {
   "cell_type": "code",
   "execution_count": null,
   "id": "e9471868",
   "metadata": {},
   "outputs": [],
   "source": [
    "df.age.value_counts().nsmallest(4).index"
   ]
  },
  {
   "cell_type": "markdown",
   "id": "8ba80b08",
   "metadata": {},
   "source": [
    "# 16- Spliting a string into multiple columns"
   ]
  },
  {
   "cell_type": "code",
   "execution_count": 272,
   "id": "9326c112",
   "metadata": {},
   "outputs": [],
   "source": [
    "df = pd.DataFrame({\"name\": ['Ali Raza','Junaid Maseed','Ajmal Afridi'],\n",
    "                   \"address\": ['palosa Peshawar', 'warirstan england', 'Hassen khel'] })\n",
    "\n",
    "df [['First_name', 'Last_name'] ] = df.name.str.split(' ' ,expand=True)"
   ]
  },
  {
   "cell_type": "code",
   "execution_count": 273,
   "id": "c1d4a2f9",
   "metadata": {},
   "outputs": [
    {
     "data": {
      "application/vnd.microsoft.datawrangler.viewer.v0+json": {
       "columns": [
        {
         "name": "index",
         "rawType": "int64",
         "type": "integer"
        },
        {
         "name": "name",
         "rawType": "object",
         "type": "string"
        },
        {
         "name": "address",
         "rawType": "object",
         "type": "string"
        },
        {
         "name": "First_name",
         "rawType": "object",
         "type": "string"
        },
        {
         "name": "Last_name",
         "rawType": "object",
         "type": "string"
        }
       ],
       "ref": "91ca0a4c-93d4-44c9-9b93-36ecc1f36767",
       "rows": [
        [
         "0",
         "Ali Raza",
         "palosa Peshawar",
         "Ali",
         "Raza"
        ],
        [
         "1",
         "Junaid Maseed",
         "warirstan england",
         "Junaid",
         "Maseed"
        ],
        [
         "2",
         "Ajmal Afridi",
         "Hassen khel",
         "Ajmal",
         "Afridi"
        ]
       ],
       "shape": {
        "columns": 4,
        "rows": 3
       }
      },
      "text/html": [
       "<div>\n",
       "<style scoped>\n",
       "    .dataframe tbody tr th:only-of-type {\n",
       "        vertical-align: middle;\n",
       "    }\n",
       "\n",
       "    .dataframe tbody tr th {\n",
       "        vertical-align: top;\n",
       "    }\n",
       "\n",
       "    .dataframe thead th {\n",
       "        text-align: right;\n",
       "    }\n",
       "</style>\n",
       "<table border=\"1\" class=\"dataframe\">\n",
       "  <thead>\n",
       "    <tr style=\"text-align: right;\">\n",
       "      <th></th>\n",
       "      <th>name</th>\n",
       "      <th>address</th>\n",
       "      <th>First_name</th>\n",
       "      <th>Last_name</th>\n",
       "    </tr>\n",
       "  </thead>\n",
       "  <tbody>\n",
       "    <tr>\n",
       "      <th>0</th>\n",
       "      <td>Ali Raza</td>\n",
       "      <td>palosa Peshawar</td>\n",
       "      <td>Ali</td>\n",
       "      <td>Raza</td>\n",
       "    </tr>\n",
       "    <tr>\n",
       "      <th>1</th>\n",
       "      <td>Junaid Maseed</td>\n",
       "      <td>warirstan england</td>\n",
       "      <td>Junaid</td>\n",
       "      <td>Maseed</td>\n",
       "    </tr>\n",
       "    <tr>\n",
       "      <th>2</th>\n",
       "      <td>Ajmal Afridi</td>\n",
       "      <td>Hassen khel</td>\n",
       "      <td>Ajmal</td>\n",
       "      <td>Afridi</td>\n",
       "    </tr>\n",
       "  </tbody>\n",
       "</table>\n",
       "</div>"
      ],
      "text/plain": [
       "            name            address First_name Last_name\n",
       "0       Ali Raza    palosa Peshawar        Ali      Raza\n",
       "1  Junaid Maseed  warirstan england     Junaid    Maseed\n",
       "2   Ajmal Afridi        Hassen khel      Ajmal    Afridi"
      ]
     },
     "execution_count": 273,
     "metadata": {},
     "output_type": "execute_result"
    }
   ],
   "source": [
    "df"
   ]
  },
  {
   "cell_type": "code",
   "execution_count": 277,
   "id": "e64ab44c",
   "metadata": {},
   "outputs": [],
   "source": [
    "new_df = df[['Village', 'State']] = df.address.str.split(' ', expand=True)"
   ]
  },
  {
   "cell_type": "code",
   "execution_count": 278,
   "id": "8a0ebfc5",
   "metadata": {},
   "outputs": [
    {
     "data": {
      "application/vnd.microsoft.datawrangler.viewer.v0+json": {
       "columns": [
        {
         "name": "index",
         "rawType": "int64",
         "type": "integer"
        },
        {
         "name": "0",
         "rawType": "object",
         "type": "string"
        },
        {
         "name": "1",
         "rawType": "object",
         "type": "string"
        }
       ],
       "ref": "c642e6cc-cc56-4578-bf3f-1b3923584e70",
       "rows": [
        [
         "0",
         "palosa",
         "Peshawar"
        ],
        [
         "1",
         "warirstan",
         "england"
        ],
        [
         "2",
         "Hassen",
         "khel"
        ]
       ],
       "shape": {
        "columns": 2,
        "rows": 3
       }
      },
      "text/html": [
       "<div>\n",
       "<style scoped>\n",
       "    .dataframe tbody tr th:only-of-type {\n",
       "        vertical-align: middle;\n",
       "    }\n",
       "\n",
       "    .dataframe tbody tr th {\n",
       "        vertical-align: top;\n",
       "    }\n",
       "\n",
       "    .dataframe thead th {\n",
       "        text-align: right;\n",
       "    }\n",
       "</style>\n",
       "<table border=\"1\" class=\"dataframe\">\n",
       "  <thead>\n",
       "    <tr style=\"text-align: right;\">\n",
       "      <th></th>\n",
       "      <th>0</th>\n",
       "      <th>1</th>\n",
       "    </tr>\n",
       "  </thead>\n",
       "  <tbody>\n",
       "    <tr>\n",
       "      <th>0</th>\n",
       "      <td>palosa</td>\n",
       "      <td>Peshawar</td>\n",
       "    </tr>\n",
       "    <tr>\n",
       "      <th>1</th>\n",
       "      <td>warirstan</td>\n",
       "      <td>england</td>\n",
       "    </tr>\n",
       "    <tr>\n",
       "      <th>2</th>\n",
       "      <td>Hassen</td>\n",
       "      <td>khel</td>\n",
       "    </tr>\n",
       "  </tbody>\n",
       "</table>\n",
       "</div>"
      ],
      "text/plain": [
       "           0         1\n",
       "0     palosa  Peshawar\n",
       "1  warirstan   england\n",
       "2     Hassen      khel"
      ]
     },
     "execution_count": 278,
     "metadata": {},
     "output_type": "execute_result"
    }
   ],
   "source": [
    "new_df"
   ]
  },
  {
   "cell_type": "code",
   "execution_count": 279,
   "id": "0b8b3af7",
   "metadata": {},
   "outputs": [
    {
     "data": {
      "application/vnd.microsoft.datawrangler.viewer.v0+json": {
       "columns": [
        {
         "name": "index",
         "rawType": "int64",
         "type": "integer"
        },
        {
         "name": "name",
         "rawType": "object",
         "type": "string"
        },
        {
         "name": "address",
         "rawType": "object",
         "type": "string"
        },
        {
         "name": "First_name",
         "rawType": "object",
         "type": "string"
        },
        {
         "name": "Last_name",
         "rawType": "object",
         "type": "string"
        },
        {
         "name": "Village",
         "rawType": "object",
         "type": "string"
        },
        {
         "name": "State",
         "rawType": "object",
         "type": "string"
        }
       ],
       "ref": "0ec651dd-e084-44dd-8cd7-689126e91b35",
       "rows": [
        [
         "0",
         "Ali Raza",
         "palosa Peshawar",
         "Ali",
         "Raza",
         "palosa",
         "Peshawar"
        ],
        [
         "1",
         "Junaid Maseed",
         "warirstan england",
         "Junaid",
         "Maseed",
         "warirstan",
         "england"
        ],
        [
         "2",
         "Ajmal Afridi",
         "Hassen khel",
         "Ajmal",
         "Afridi",
         "Hassen",
         "khel"
        ]
       ],
       "shape": {
        "columns": 6,
        "rows": 3
       }
      },
      "text/html": [
       "<div>\n",
       "<style scoped>\n",
       "    .dataframe tbody tr th:only-of-type {\n",
       "        vertical-align: middle;\n",
       "    }\n",
       "\n",
       "    .dataframe tbody tr th {\n",
       "        vertical-align: top;\n",
       "    }\n",
       "\n",
       "    .dataframe thead th {\n",
       "        text-align: right;\n",
       "    }\n",
       "</style>\n",
       "<table border=\"1\" class=\"dataframe\">\n",
       "  <thead>\n",
       "    <tr style=\"text-align: right;\">\n",
       "      <th></th>\n",
       "      <th>name</th>\n",
       "      <th>address</th>\n",
       "      <th>First_name</th>\n",
       "      <th>Last_name</th>\n",
       "      <th>Village</th>\n",
       "      <th>State</th>\n",
       "    </tr>\n",
       "  </thead>\n",
       "  <tbody>\n",
       "    <tr>\n",
       "      <th>0</th>\n",
       "      <td>Ali Raza</td>\n",
       "      <td>palosa Peshawar</td>\n",
       "      <td>Ali</td>\n",
       "      <td>Raza</td>\n",
       "      <td>palosa</td>\n",
       "      <td>Peshawar</td>\n",
       "    </tr>\n",
       "    <tr>\n",
       "      <th>1</th>\n",
       "      <td>Junaid Maseed</td>\n",
       "      <td>warirstan england</td>\n",
       "      <td>Junaid</td>\n",
       "      <td>Maseed</td>\n",
       "      <td>warirstan</td>\n",
       "      <td>england</td>\n",
       "    </tr>\n",
       "    <tr>\n",
       "      <th>2</th>\n",
       "      <td>Ajmal Afridi</td>\n",
       "      <td>Hassen khel</td>\n",
       "      <td>Ajmal</td>\n",
       "      <td>Afridi</td>\n",
       "      <td>Hassen</td>\n",
       "      <td>khel</td>\n",
       "    </tr>\n",
       "  </tbody>\n",
       "</table>\n",
       "</div>"
      ],
      "text/plain": [
       "            name            address First_name Last_name    Village     State\n",
       "0       Ali Raza    palosa Peshawar        Ali      Raza     palosa  Peshawar\n",
       "1  Junaid Maseed  warirstan england     Junaid    Maseed  warirstan   england\n",
       "2   Ajmal Afridi        Hassen khel      Ajmal    Afridi     Hassen      khel"
      ]
     },
     "execution_count": 279,
     "metadata": {},
     "output_type": "execute_result"
    }
   ],
   "source": [
    "df"
   ]
  },
  {
   "cell_type": "code",
   "execution_count": null,
   "id": "7b28b1ba",
   "metadata": {},
   "outputs": [],
   "source": []
  }
 ],
 "metadata": {
  "kernelspec": {
   "display_name": "Python 3",
   "language": "python",
   "name": "python3"
  },
  "language_info": {
   "codemirror_mode": {
    "name": "ipython",
    "version": 3
   },
   "file_extension": ".py",
   "mimetype": "text/x-python",
   "name": "python",
   "nbconvert_exporter": "python",
   "pygments_lexer": "ipython3",
   "version": "3.13.1"
  }
 },
 "nbformat": 4,
 "nbformat_minor": 5
}
